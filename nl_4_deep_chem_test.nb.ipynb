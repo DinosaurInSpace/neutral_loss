{
 "cells": [
  {
   "cell_type": "code",
   "execution_count": 1,
   "metadata": {},
   "outputs": [
    {
     "name": "stderr",
     "output_type": "stream",
     "text": [
      "/Users/dis/anaconda3/envs/lcenv/lib/python3.6/site-packages/sklearn/externals/joblib/__init__.py:15: DeprecationWarning: sklearn.externals.joblib is deprecated in 0.21 and will be removed in 0.23. Please import this functionality directly from joblib, which can be installed with: pip install joblib. If this warning is raised when loading pickled models, you may need to re-serialize those models with scikit-learn 0.21+.\n",
      "  warnings.warn(msg, category=DeprecationWarning)\n",
      "/Users/dis/anaconda3/envs/lcenv/lib/python3.6/site-packages/tensorflow/python/framework/dtypes.py:516: FutureWarning: Passing (type, 1) or '1type' as a synonym of type is deprecated; in a future version of numpy, it will be understood as (type, (1,)) / '(1,)type'.\n",
      "  _np_qint8 = np.dtype([(\"qint8\", np.int8, 1)])\n",
      "/Users/dis/anaconda3/envs/lcenv/lib/python3.6/site-packages/tensorflow/python/framework/dtypes.py:517: FutureWarning: Passing (type, 1) or '1type' as a synonym of type is deprecated; in a future version of numpy, it will be understood as (type, (1,)) / '(1,)type'.\n",
      "  _np_quint8 = np.dtype([(\"quint8\", np.uint8, 1)])\n",
      "/Users/dis/anaconda3/envs/lcenv/lib/python3.6/site-packages/tensorflow/python/framework/dtypes.py:518: FutureWarning: Passing (type, 1) or '1type' as a synonym of type is deprecated; in a future version of numpy, it will be understood as (type, (1,)) / '(1,)type'.\n",
      "  _np_qint16 = np.dtype([(\"qint16\", np.int16, 1)])\n",
      "/Users/dis/anaconda3/envs/lcenv/lib/python3.6/site-packages/tensorflow/python/framework/dtypes.py:519: FutureWarning: Passing (type, 1) or '1type' as a synonym of type is deprecated; in a future version of numpy, it will be understood as (type, (1,)) / '(1,)type'.\n",
      "  _np_quint16 = np.dtype([(\"quint16\", np.uint16, 1)])\n",
      "/Users/dis/anaconda3/envs/lcenv/lib/python3.6/site-packages/tensorflow/python/framework/dtypes.py:520: FutureWarning: Passing (type, 1) or '1type' as a synonym of type is deprecated; in a future version of numpy, it will be understood as (type, (1,)) / '(1,)type'.\n",
      "  _np_qint32 = np.dtype([(\"qint32\", np.int32, 1)])\n",
      "/Users/dis/anaconda3/envs/lcenv/lib/python3.6/site-packages/tensorflow/python/framework/dtypes.py:525: FutureWarning: Passing (type, 1) or '1type' as a synonym of type is deprecated; in a future version of numpy, it will be understood as (type, (1,)) / '(1,)type'.\n",
      "  np_resource = np.dtype([(\"resource\", np.ubyte, 1)])\n",
      "/Users/dis/anaconda3/envs/lcenv/lib/python3.6/site-packages/tensorboard/compat/tensorflow_stub/dtypes.py:541: FutureWarning: Passing (type, 1) or '1type' as a synonym of type is deprecated; in a future version of numpy, it will be understood as (type, (1,)) / '(1,)type'.\n",
      "  _np_qint8 = np.dtype([(\"qint8\", np.int8, 1)])\n",
      "/Users/dis/anaconda3/envs/lcenv/lib/python3.6/site-packages/tensorboard/compat/tensorflow_stub/dtypes.py:542: FutureWarning: Passing (type, 1) or '1type' as a synonym of type is deprecated; in a future version of numpy, it will be understood as (type, (1,)) / '(1,)type'.\n",
      "  _np_quint8 = np.dtype([(\"quint8\", np.uint8, 1)])\n",
      "/Users/dis/anaconda3/envs/lcenv/lib/python3.6/site-packages/tensorboard/compat/tensorflow_stub/dtypes.py:543: FutureWarning: Passing (type, 1) or '1type' as a synonym of type is deprecated; in a future version of numpy, it will be understood as (type, (1,)) / '(1,)type'.\n",
      "  _np_qint16 = np.dtype([(\"qint16\", np.int16, 1)])\n",
      "/Users/dis/anaconda3/envs/lcenv/lib/python3.6/site-packages/tensorboard/compat/tensorflow_stub/dtypes.py:544: FutureWarning: Passing (type, 1) or '1type' as a synonym of type is deprecated; in a future version of numpy, it will be understood as (type, (1,)) / '(1,)type'.\n",
      "  _np_quint16 = np.dtype([(\"quint16\", np.uint16, 1)])\n",
      "/Users/dis/anaconda3/envs/lcenv/lib/python3.6/site-packages/tensorboard/compat/tensorflow_stub/dtypes.py:545: FutureWarning: Passing (type, 1) or '1type' as a synonym of type is deprecated; in a future version of numpy, it will be understood as (type, (1,)) / '(1,)type'.\n",
      "  _np_qint32 = np.dtype([(\"qint32\", np.int32, 1)])\n",
      "/Users/dis/anaconda3/envs/lcenv/lib/python3.6/site-packages/tensorboard/compat/tensorflow_stub/dtypes.py:550: FutureWarning: Passing (type, 1) or '1type' as a synonym of type is deprecated; in a future version of numpy, it will be understood as (type, (1,)) / '(1,)type'.\n",
      "  np_resource = np.dtype([(\"resource\", np.ubyte, 1)])\n"
     ]
    }
   ],
   "source": [
    "import numpy as np\n",
    "import pandas as pd\n",
    "from rdkit import Chem as chem\n",
    "import deepchem as dc\n",
    "from deepchem.models import GraphConvModel, WeaveModel, MPNNModel\n",
    "from deepchem.data import DiskDataset\n",
    "from matplotlib import pyplot as plt\n",
    "from nl_03_filter_model_score import confuse\n",
    "import deepchem.molnet \n",
    "import time\n",
    "from sklearn.metrics import confusion_matrix"
   ]
  },
  {
   "cell_type": "code",
   "execution_count": 2,
   "metadata": {},
   "outputs": [],
   "source": [
    "def np_2d_array(arr):\n",
    "    # DC expects array (n x len(tasks)\n",
    "    return np.reshape(arr,(arr.size, 1))"
   ]
  },
  {
   "cell_type": "code",
   "execution_count": 3,
   "metadata": {},
   "outputs": [],
   "source": [
    "def dc_featurize(dc_feature, dfs):\n",
    "    # Input from rest of script should be: [test, train, val]\n",
    "    # Each should consist of a df with columns: [y, w, X]\n",
    "    \n",
    "    train_df = dfs[0]\n",
    "    train_y = np_2d_array(np.array(train_df.y))\n",
    "    train_w = np_2d_array(np.array(train_df.w))\n",
    "\n",
    "    # List of rdkit objects?\n",
    "    train_X = np.array(train_df.X)\n",
    "    \n",
    "    test_df = dfs[1]\n",
    "    test_y = np_2d_array(np.array(test_df.y))\n",
    "    test_w = np_2d_array(np.array(test_df.w))\n",
    "    \n",
    "    # List of rdkit objects?\n",
    "    test_X = np.array(test_df.X)\n",
    "    \n",
    "    if dc_feature is 'GraphConv':\n",
    "        feat = dc.feat.graph_features.ConvMolFeaturizer()\n",
    "          \n",
    "    elif dc_feature is 'Weave':\n",
    "        feat = dc.feat.graph_features.WeaveFeaturizer(graph_distance=True, \n",
    "                                                      explicit_H=False)\n",
    "    \n",
    "    else:\n",
    "        print('error: bad featurizer')\n",
    "    \n",
    "    train_X = feat.featurize(train_X, verbose=True, log_every_n=1000)\n",
    "    test_X = feat.featurize(test_X, verbose=True, log_every_n=1000)\n",
    "\n",
    "    # from_numpy(X, y, w=None, ids=None, tasks=None, data_dir=None, verbose=True)\n",
    "    # Creates a DiskDataset object from specified Numpy arrays.\n",
    "    \n",
    "    train_ds = DiskDataset.from_numpy(train_X, train_y, w=train_w, verbose=True)\n",
    "    test_ds = DiskDataset.from_numpy(test_X, test_y, w=test_w, verbose=True) \n",
    "    \n",
    "    # https://deepchem.io/docs/notebooks/graph_convolutional_networks_for_tox21.html\n",
    "    # Tasks?\n",
    "    # https://deepchem.io/_modules/deepchem/trans/transformers.html\n",
    "    # NormalizationTransformer(Transformer)\n",
    "    #transformers = [deepchem.trans.BalancingTransformer(transform_w=True, \n",
    "    #                                                   dataset=dataset)]\n",
    "   \n",
    "    return [train_ds, test_ds]"
   ]
  },
  {
   "cell_type": "code",
   "execution_count": 4,
   "metadata": {},
   "outputs": [],
   "source": [
    "def confuse(obs_y, theo_y):\n",
    "    # Copy from confuse ipynb\n",
    "    # Issue with confuse for nn\n",
    "    # Classification metrics can't \n",
    "    # handle a mix of binary and unknown targets\n",
    "    print(obs_y)\n",
    "    print(theo_y)\n",
    "    \n",
    "    print(type(obs_y))\n",
    "    print(type(theo_y))\n",
    "    \n",
    "    print(len(obs_y))\n",
    "    print(len(theo_y))\n",
    "    \n",
    "    \n",
    "    con = confusion_matrix(list(obs_y), list(theo_y))\n",
    "    if con.shape == (1, 1):\n",
    "        print('error!')\n",
    "\n",
    "    elif con.shape == (2, 2):\n",
    "        tn, fp, fn, tp = con.ravel()\n",
    "        sens = tpr = tp / (tp + fn)\n",
    "        spec = tnr = tn / (tn + fp)\n",
    "        f1 = (2 * tp) / (2 * tp + fp + fn)\n",
    "        acc = (tp + tn) / (tp + tn + fp + fn)\n",
    "        # prec = tp / (tp + fp)\n",
    "\n",
    "        return [acc, {'sens': sens, 'spec': spec, 'f1': f1,\n",
    "                      'test_n': tn + fp + fn + tp, 'test_true': tp + fp,\n",
    "                      'tp': tp, 'tn': tn, 'fp': fp, 'fn': fn\n",
    "                      }]\n",
    "\n",
    "    else:\n",
    "        print('error!')"
   ]
  },
  {
   "cell_type": "code",
   "execution_count": 46,
   "metadata": {},
   "outputs": [],
   "source": [
    "def dc_model_build(dc_model, dss):\n",
    "    train_ds = dss[0]\n",
    "    test_ds = dss[1]\n",
    "    print(dc_model)\n",
    "    \n",
    "    if dc_model is 'GraphConvModel':\n",
    "        #model = GraphConvModel(per_task_metrics=True, n_tasks=1, mode='classification', dropout=0.2)\n",
    "        model = GraphConvModel(1, batch_size=50, mode='classification')\n",
    "        model.fit(train_ds, nb_epoch=100)\n",
    "   \n",
    "    elif dc_model is 'WeaveModel':\n",
    "        model = WeaveModel(n_tasks=1, mode='classification', dropout=0.2)\n",
    "        model.fit(train_ds, nb_epoch=100)\n",
    "        \n",
    "    elif dc_model is 'MPNNModel':\n",
    "        pass\n",
    "    \n",
    "    else:\n",
    "        print('dc_model selection error: invalid choice')\n",
    "        return None\n",
    "\n",
    "    # https://deepchem.io/docs/_modules/deepchem/trans/transformers.html\n",
    "    \n",
    "    metric = dc.metrics.Metric(dc.metrics.accuracy_score)\n",
    "    acc_train = model.evaluate(train_ds, [metric]) # transformers=[])\n",
    "    \n",
    "    print('acc_train')\n",
    "    print(acc_train)    \n",
    "    \n",
    "    acc_test = model.evaluate(test_ds, [metric]) # transformers)\n",
    "        \n",
    "    print('acc_train')\n",
    "    print(acc_train)\n",
    "\n",
    "    # Predict_y output is weird, array of two numbers...\n",
    "    predict_ds = model.predict_proba(test_ds) #, transformers=[])\n",
    "    \n",
    "    print('predict')\n",
    "    print(predict_ds.shape)\n",
    "    print(type(predict_ds))\n",
    "    \n",
    "    return predict_ds\n",
    "    \n",
    "    #result_dict = confuse(test_ds.y, predict_ds)[1]\n",
    "    #result_dict['acc_train'] = acc_train\n",
    "    #result_dict['acc_test'] = acc_test\n",
    "\n",
    "    #return result_dict"
   ]
  },
  {
   "cell_type": "code",
   "execution_count": 28,
   "metadata": {},
   "outputs": [],
   "source": [
    "# Load X's if running machine learning\n",
    "join_df_path = 'all_public_output_02.pickle' \n",
    "join_df = pd.read_pickle(join_df_path)  # 0.5 Gb\n",
    "\n",
    "xyw_df = join_df[['n_loss_wparent_H2O', 'weight', 'Molecule']].copy(deep=True)\n",
    "xyw_df = xyw_df.rename(columns={'Molecule': 'X', 'n_loss_wparent_H2O': 'y', 'weight': 'w'}, inplace=False)\n",
    "\n",
    "# Trim to small set, 300 rows, to check functionality.\n",
    "# . Do not use this split for real evaluations.\n",
    "test_df = xyw_df.iloc[0:10,:].copy(deep=True)\n",
    "train_df = xyw_df.iloc[11:20,:].copy(deep=True)\n",
    "val_df = train_df = xyw_df.iloc[21:30,:].copy(deep=True)\n",
    "dfs = [test_df, train_df, val_df]"
   ]
  },
  {
   "cell_type": "code",
   "execution_count": 29,
   "metadata": {},
   "outputs": [],
   "source": [
    "# Parameters\n",
    "dc_features_models = [('GraphConvModel', 'GraphConv'), \n",
    "                   ('WeaveModel', 'Weave'), \n",
    "                   ('MPNNModel','Weave') ]\n",
    "dc_feature_model = dc_features_models[0]\n",
    "dc_model = dc_feature_model[0]\n",
    "dc_feature = dc_feature_model[1]"
   ]
  },
  {
   "cell_type": "code",
   "execution_count": 30,
   "metadata": {},
   "outputs": [
    {
     "name": "stdout",
     "output_type": "stream",
     "text": [
      "TIMING: dataset construction took 0.011 s\n",
      "Loading dataset from disk.\n",
      "TIMING: dataset construction took 0.009 s\n",
      "Loading dataset from disk.\n"
     ]
    }
   ],
   "source": [
    "# Featurization:\n",
    "dc_datasets = dc_featurize(dc_feature, dfs)"
   ]
  },
  {
   "cell_type": "code",
   "execution_count": 47,
   "metadata": {},
   "outputs": [
    {
     "name": "stdout",
     "output_type": "stream",
     "text": [
      "GraphConvModel\n",
      "WARNING:tensorflow:Entity <bound method GraphConv.call of <deepchem.models.layers.GraphConv object at 0x1b822e0dd8>> could not be transformed and will be executed as-is. Please report this to the AutgoGraph team. When filing the bug, set the verbosity to 10 (on Linux, `export AUTOGRAPH_VERBOSITY=10`) and attach the full output. Cause: converting <bound method GraphConv.call of <deepchem.models.layers.GraphConv object at 0x1b822e0dd8>>: AttributeError: module 'gast' has no attribute 'Num'\n",
      "WARNING: Entity <bound method GraphConv.call of <deepchem.models.layers.GraphConv object at 0x1b822e0dd8>> could not be transformed and will be executed as-is. Please report this to the AutgoGraph team. When filing the bug, set the verbosity to 10 (on Linux, `export AUTOGRAPH_VERBOSITY=10`) and attach the full output. Cause: converting <bound method GraphConv.call of <deepchem.models.layers.GraphConv object at 0x1b822e0dd8>>: AttributeError: module 'gast' has no attribute 'Num'\n",
      "WARNING:tensorflow:Entity <bound method GraphPool.call of <deepchem.models.layers.GraphPool object at 0x1a7d321fd0>> could not be transformed and will be executed as-is. Please report this to the AutgoGraph team. When filing the bug, set the verbosity to 10 (on Linux, `export AUTOGRAPH_VERBOSITY=10`) and attach the full output. Cause: converting <bound method GraphPool.call of <deepchem.models.layers.GraphPool object at 0x1a7d321fd0>>: AttributeError: module 'gast' has no attribute 'Num'\n",
      "WARNING: Entity <bound method GraphPool.call of <deepchem.models.layers.GraphPool object at 0x1a7d321fd0>> could not be transformed and will be executed as-is. Please report this to the AutgoGraph team. When filing the bug, set the verbosity to 10 (on Linux, `export AUTOGRAPH_VERBOSITY=10`) and attach the full output. Cause: converting <bound method GraphPool.call of <deepchem.models.layers.GraphPool object at 0x1a7d321fd0>>: AttributeError: module 'gast' has no attribute 'Num'\n",
      "WARNING:tensorflow:Entity <bound method GraphConv.call of <deepchem.models.layers.GraphConv object at 0x1a7d321320>> could not be transformed and will be executed as-is. Please report this to the AutgoGraph team. When filing the bug, set the verbosity to 10 (on Linux, `export AUTOGRAPH_VERBOSITY=10`) and attach the full output. Cause: converting <bound method GraphConv.call of <deepchem.models.layers.GraphConv object at 0x1a7d321320>>: AttributeError: module 'gast' has no attribute 'Num'\n",
      "WARNING: Entity <bound method GraphConv.call of <deepchem.models.layers.GraphConv object at 0x1a7d321320>> could not be transformed and will be executed as-is. Please report this to the AutgoGraph team. When filing the bug, set the verbosity to 10 (on Linux, `export AUTOGRAPH_VERBOSITY=10`) and attach the full output. Cause: converting <bound method GraphConv.call of <deepchem.models.layers.GraphConv object at 0x1a7d321320>>: AttributeError: module 'gast' has no attribute 'Num'\n",
      "WARNING:tensorflow:Entity <bound method GraphPool.call of <deepchem.models.layers.GraphPool object at 0x1a5e57c1d0>> could not be transformed and will be executed as-is. Please report this to the AutgoGraph team. When filing the bug, set the verbosity to 10 (on Linux, `export AUTOGRAPH_VERBOSITY=10`) and attach the full output. Cause: converting <bound method GraphPool.call of <deepchem.models.layers.GraphPool object at 0x1a5e57c1d0>>: AttributeError: module 'gast' has no attribute 'Num'\n",
      "WARNING: Entity <bound method GraphPool.call of <deepchem.models.layers.GraphPool object at 0x1a5e57c1d0>> could not be transformed and will be executed as-is. Please report this to the AutgoGraph team. When filing the bug, set the verbosity to 10 (on Linux, `export AUTOGRAPH_VERBOSITY=10`) and attach the full output. Cause: converting <bound method GraphPool.call of <deepchem.models.layers.GraphPool object at 0x1a5e57c1d0>>: AttributeError: module 'gast' has no attribute 'Num'\n",
      "WARNING:tensorflow:Entity <bound method GraphGather.call of <deepchem.models.layers.GraphGather object at 0x1a5edb3a58>> could not be transformed and will be executed as-is. Please report this to the AutgoGraph team. When filing the bug, set the verbosity to 10 (on Linux, `export AUTOGRAPH_VERBOSITY=10`) and attach the full output. Cause: converting <bound method GraphGather.call of <deepchem.models.layers.GraphGather object at 0x1a5edb3a58>>: AttributeError: module 'gast' has no attribute 'Num'\n",
      "WARNING: Entity <bound method GraphGather.call of <deepchem.models.layers.GraphGather object at 0x1a5edb3a58>> could not be transformed and will be executed as-is. Please report this to the AutgoGraph team. When filing the bug, set the verbosity to 10 (on Linux, `export AUTOGRAPH_VERBOSITY=10`) and attach the full output. Cause: converting <bound method GraphGather.call of <deepchem.models.layers.GraphGather object at 0x1a5edb3a58>>: AttributeError: module 'gast' has no attribute 'Num'\n",
      "WARNING:tensorflow:Entity <bound method TrimGraphOutput.call of <deepchem.models.graph_models.TrimGraphOutput object at 0x1a5f0a5438>> could not be transformed and will be executed as-is. Please report this to the AutgoGraph team. When filing the bug, set the verbosity to 10 (on Linux, `export AUTOGRAPH_VERBOSITY=10`) and attach the full output. Cause: converting <bound method TrimGraphOutput.call of <deepchem.models.graph_models.TrimGraphOutput object at 0x1a5f0a5438>>: AttributeError: module 'gast' has no attribute 'Num'\n",
      "WARNING: Entity <bound method TrimGraphOutput.call of <deepchem.models.graph_models.TrimGraphOutput object at 0x1a5f0a5438>> could not be transformed and will be executed as-is. Please report this to the AutgoGraph team. When filing the bug, set the verbosity to 10 (on Linux, `export AUTOGRAPH_VERBOSITY=10`) and attach the full output. Cause: converting <bound method TrimGraphOutput.call of <deepchem.models.graph_models.TrimGraphOutput object at 0x1a5f0a5438>>: AttributeError: module 'gast' has no attribute 'Num'\n",
      "WARNING:tensorflow:Entity <bound method GraphConv.call of <deepchem.models.layers.GraphConv object at 0x1b822e0dd8>> could not be transformed and will be executed as-is. Please report this to the AutgoGraph team. When filing the bug, set the verbosity to 10 (on Linux, `export AUTOGRAPH_VERBOSITY=10`) and attach the full output. Cause: converting <bound method GraphConv.call of <deepchem.models.layers.GraphConv object at 0x1b822e0dd8>>: AttributeError: module 'gast' has no attribute 'Num'\n",
      "WARNING: Entity <bound method GraphConv.call of <deepchem.models.layers.GraphConv object at 0x1b822e0dd8>> could not be transformed and will be executed as-is. Please report this to the AutgoGraph team. When filing the bug, set the verbosity to 10 (on Linux, `export AUTOGRAPH_VERBOSITY=10`) and attach the full output. Cause: converting <bound method GraphConv.call of <deepchem.models.layers.GraphConv object at 0x1b822e0dd8>>: AttributeError: module 'gast' has no attribute 'Num'\n",
      "WARNING:tensorflow:Entity <bound method GraphPool.call of <deepchem.models.layers.GraphPool object at 0x1a7d321fd0>> could not be transformed and will be executed as-is. Please report this to the AutgoGraph team. When filing the bug, set the verbosity to 10 (on Linux, `export AUTOGRAPH_VERBOSITY=10`) and attach the full output. Cause: converting <bound method GraphPool.call of <deepchem.models.layers.GraphPool object at 0x1a7d321fd0>>: AttributeError: module 'gast' has no attribute 'Num'\n",
      "WARNING: Entity <bound method GraphPool.call of <deepchem.models.layers.GraphPool object at 0x1a7d321fd0>> could not be transformed and will be executed as-is. Please report this to the AutgoGraph team. When filing the bug, set the verbosity to 10 (on Linux, `export AUTOGRAPH_VERBOSITY=10`) and attach the full output. Cause: converting <bound method GraphPool.call of <deepchem.models.layers.GraphPool object at 0x1a7d321fd0>>: AttributeError: module 'gast' has no attribute 'Num'\n",
      "WARNING:tensorflow:Entity <bound method GraphConv.call of <deepchem.models.layers.GraphConv object at 0x1a7d321320>> could not be transformed and will be executed as-is. Please report this to the AutgoGraph team. When filing the bug, set the verbosity to 10 (on Linux, `export AUTOGRAPH_VERBOSITY=10`) and attach the full output. Cause: converting <bound method GraphConv.call of <deepchem.models.layers.GraphConv object at 0x1a7d321320>>: AttributeError: module 'gast' has no attribute 'Num'\n"
     ]
    },
    {
     "name": "stdout",
     "output_type": "stream",
     "text": [
      "WARNING: Entity <bound method GraphConv.call of <deepchem.models.layers.GraphConv object at 0x1a7d321320>> could not be transformed and will be executed as-is. Please report this to the AutgoGraph team. When filing the bug, set the verbosity to 10 (on Linux, `export AUTOGRAPH_VERBOSITY=10`) and attach the full output. Cause: converting <bound method GraphConv.call of <deepchem.models.layers.GraphConv object at 0x1a7d321320>>: AttributeError: module 'gast' has no attribute 'Num'\n",
      "WARNING:tensorflow:Entity <bound method GraphPool.call of <deepchem.models.layers.GraphPool object at 0x1a5e57c1d0>> could not be transformed and will be executed as-is. Please report this to the AutgoGraph team. When filing the bug, set the verbosity to 10 (on Linux, `export AUTOGRAPH_VERBOSITY=10`) and attach the full output. Cause: converting <bound method GraphPool.call of <deepchem.models.layers.GraphPool object at 0x1a5e57c1d0>>: AttributeError: module 'gast' has no attribute 'Num'\n",
      "WARNING: Entity <bound method GraphPool.call of <deepchem.models.layers.GraphPool object at 0x1a5e57c1d0>> could not be transformed and will be executed as-is. Please report this to the AutgoGraph team. When filing the bug, set the verbosity to 10 (on Linux, `export AUTOGRAPH_VERBOSITY=10`) and attach the full output. Cause: converting <bound method GraphPool.call of <deepchem.models.layers.GraphPool object at 0x1a5e57c1d0>>: AttributeError: module 'gast' has no attribute 'Num'\n",
      "WARNING:tensorflow:Entity <bound method GraphGather.call of <deepchem.models.layers.GraphGather object at 0x1a5edb3a58>> could not be transformed and will be executed as-is. Please report this to the AutgoGraph team. When filing the bug, set the verbosity to 10 (on Linux, `export AUTOGRAPH_VERBOSITY=10`) and attach the full output. Cause: converting <bound method GraphGather.call of <deepchem.models.layers.GraphGather object at 0x1a5edb3a58>>: AttributeError: module 'gast' has no attribute 'Num'\n",
      "WARNING: Entity <bound method GraphGather.call of <deepchem.models.layers.GraphGather object at 0x1a5edb3a58>> could not be transformed and will be executed as-is. Please report this to the AutgoGraph team. When filing the bug, set the verbosity to 10 (on Linux, `export AUTOGRAPH_VERBOSITY=10`) and attach the full output. Cause: converting <bound method GraphGather.call of <deepchem.models.layers.GraphGather object at 0x1a5edb3a58>>: AttributeError: module 'gast' has no attribute 'Num'\n",
      "WARNING:tensorflow:Entity <bound method TrimGraphOutput.call of <deepchem.models.graph_models.TrimGraphOutput object at 0x1a5f0a5438>> could not be transformed and will be executed as-is. Please report this to the AutgoGraph team. When filing the bug, set the verbosity to 10 (on Linux, `export AUTOGRAPH_VERBOSITY=10`) and attach the full output. Cause: converting <bound method TrimGraphOutput.call of <deepchem.models.graph_models.TrimGraphOutput object at 0x1a5f0a5438>>: AttributeError: module 'gast' has no attribute 'Num'\n",
      "WARNING: Entity <bound method TrimGraphOutput.call of <deepchem.models.graph_models.TrimGraphOutput object at 0x1a5f0a5438>> could not be transformed and will be executed as-is. Please report this to the AutgoGraph team. When filing the bug, set the verbosity to 10 (on Linux, `export AUTOGRAPH_VERBOSITY=10`) and attach the full output. Cause: converting <bound method TrimGraphOutput.call of <deepchem.models.graph_models.TrimGraphOutput object at 0x1a5f0a5438>>: AttributeError: module 'gast' has no attribute 'Num'\n"
     ]
    },
    {
     "name": "stderr",
     "output_type": "stream",
     "text": [
      "/Users/dis/anaconda3/envs/lcenv/lib/python3.6/site-packages/tensorflow/python/ops/gradients_util.py:93: UserWarning: Converting sparse IndexedSlices to a dense Tensor of unknown shape. This may consume a large amount of memory.\n",
      "  \"Converting sparse IndexedSlices to a dense Tensor of unknown shape. \"\n",
      "/Users/dis/anaconda3/envs/lcenv/lib/python3.6/site-packages/tensorflow/python/ops/gradients_util.py:93: UserWarning: Converting sparse IndexedSlices to a dense Tensor of unknown shape. This may consume a large amount of memory.\n",
      "  \"Converting sparse IndexedSlices to a dense Tensor of unknown shape. \"\n",
      "/Users/dis/anaconda3/envs/lcenv/lib/python3.6/site-packages/tensorflow/python/ops/gradients_util.py:93: UserWarning: Converting sparse IndexedSlices to a dense Tensor of unknown shape. This may consume a large amount of memory.\n",
      "  \"Converting sparse IndexedSlices to a dense Tensor of unknown shape. \"\n"
     ]
    },
    {
     "name": "stdout",
     "output_type": "stream",
     "text": [
      "computed_metrics: [1.0]\n",
      "acc_train\n",
      "{'accuracy_score': 1.0}\n",
      "computed_metrics: [0.4444444444444444]\n",
      "acc_train\n",
      "{'accuracy_score': 1.0}\n"
     ]
    },
    {
     "ename": "AttributeError",
     "evalue": "'GraphConvModel' object has no attribute 'predict_proba'",
     "output_type": "error",
     "traceback": [
      "\u001b[0;31m---------------------------------------------------------------------------\u001b[0m",
      "\u001b[0;31mAttributeError\u001b[0m                            Traceback (most recent call last)",
      "\u001b[0;32m<ipython-input-47-856aab51a512>\u001b[0m in \u001b[0;36m<module>\u001b[0;34m\u001b[0m\n\u001b[1;32m      1\u001b[0m \u001b[0;31m# Model building:\u001b[0m\u001b[0;34m\u001b[0m\u001b[0;34m\u001b[0m\u001b[0;34m\u001b[0m\u001b[0m\n\u001b[0;32m----> 2\u001b[0;31m \u001b[0mdc_results\u001b[0m \u001b[0;34m=\u001b[0m \u001b[0mdc_model_build\u001b[0m\u001b[0;34m(\u001b[0m\u001b[0mdc_model\u001b[0m\u001b[0;34m,\u001b[0m \u001b[0mdc_datasets\u001b[0m\u001b[0;34m)\u001b[0m\u001b[0;34m\u001b[0m\u001b[0;34m\u001b[0m\u001b[0m\n\u001b[0m",
      "\u001b[0;32m<ipython-input-46-7d92fb2f6ed3>\u001b[0m in \u001b[0;36mdc_model_build\u001b[0;34m(dc_model, dss)\u001b[0m\n\u001b[1;32m     34\u001b[0m \u001b[0;34m\u001b[0m\u001b[0m\n\u001b[1;32m     35\u001b[0m     \u001b[0;31m# Predict_y output is weird, array of two numbers...\u001b[0m\u001b[0;34m\u001b[0m\u001b[0;34m\u001b[0m\u001b[0;34m\u001b[0m\u001b[0m\n\u001b[0;32m---> 36\u001b[0;31m     \u001b[0mpredict_ds\u001b[0m \u001b[0;34m=\u001b[0m \u001b[0mmodel\u001b[0m\u001b[0;34m.\u001b[0m\u001b[0mpredict_proba\u001b[0m\u001b[0;34m(\u001b[0m\u001b[0mtest_ds\u001b[0m\u001b[0;34m)\u001b[0m \u001b[0;31m#, transformers=[])\u001b[0m\u001b[0;34m\u001b[0m\u001b[0;34m\u001b[0m\u001b[0m\n\u001b[0m\u001b[1;32m     37\u001b[0m \u001b[0;34m\u001b[0m\u001b[0m\n\u001b[1;32m     38\u001b[0m     \u001b[0mprint\u001b[0m\u001b[0;34m(\u001b[0m\u001b[0;34m'predict'\u001b[0m\u001b[0;34m)\u001b[0m\u001b[0;34m\u001b[0m\u001b[0;34m\u001b[0m\u001b[0m\n",
      "\u001b[0;31mAttributeError\u001b[0m: 'GraphConvModel' object has no attribute 'predict_proba'"
     ]
    }
   ],
   "source": [
    "# Model building:\n",
    "# It seems that most dc models only support regression???\n",
    "dc_results = dc_model_build(dc_model, dc_datasets)"
   ]
  },
  {
   "cell_type": "code",
   "execution_count": 38,
   "metadata": {},
   "outputs": [
    {
     "data": {
      "text/plain": [
       "array([[0.00355048, 0.9964495 ],\n",
       "       [0.08991361, 0.91008633],\n",
       "       [0.4734411 , 0.52655894],\n",
       "       [0.9513122 , 0.04868777],\n",
       "       [0.4421962 , 0.55780375],\n",
       "       [0.41332096, 0.58667904],\n",
       "       [0.46275672, 0.5372433 ],\n",
       "       [0.46619338, 0.53380656],\n",
       "       [0.429655  , 0.5703451 ]], dtype=float32)"
      ]
     },
     "execution_count": 38,
     "metadata": {},
     "output_type": "execute_result"
    }
   ],
   "source": [
    "np.squeeze(dc_results)"
   ]
  },
  {
   "cell_type": "code",
   "execution_count": 40,
   "metadata": {},
   "outputs": [],
   "source": [
    "test_ds = dc_datasets[1]"
   ]
  },
  {
   "cell_type": "code",
   "execution_count": 45,
   "metadata": {},
   "outputs": [
    {
     "data": {
      "text/plain": [
       "array([[False],\n",
       "       [False],\n",
       "       [False],\n",
       "       [False],\n",
       "       [False],\n",
       "       [False],\n",
       "       [False],\n",
       "       [False],\n",
       "       [False]])"
      ]
     },
     "execution_count": 45,
     "metadata": {},
     "output_type": "execute_result"
    }
   ],
   "source": [
    "test_ds.y"
   ]
  },
  {
   "cell_type": "code",
   "execution_count": null,
   "metadata": {},
   "outputs": [],
   "source": []
  },
  {
   "cell_type": "markdown",
   "metadata": {},
   "source": [
    "\"test_ds\" is a (300, 3) DataFrame.  Fitting dc mdoels wants this?  But predict doesn't\n",
    "--> should be test_ds.X or ds.y?\n",
    "predict_y is a (300, 1, 2) arr --> should be t or f?"
   ]
  },
  {
   "cell_type": "code",
   "execution_count": 14,
   "metadata": {},
   "outputs": [
    {
     "ename": "NameError",
     "evalue": "name 'dc_results' is not defined",
     "output_type": "error",
     "traceback": [
      "\u001b[0;31m---------------------------------------------------------------------------\u001b[0m",
      "\u001b[0;31mNameError\u001b[0m                                 Traceback (most recent call last)",
      "\u001b[0;32m<ipython-input-14-c348e5053f01>\u001b[0m in \u001b[0;36m<module>\u001b[0;34m\u001b[0m\n\u001b[0;32m----> 1\u001b[0;31m \u001b[0mdc_results\u001b[0m\u001b[0;34m\u001b[0m\u001b[0;34m\u001b[0m\u001b[0m\n\u001b[0m",
      "\u001b[0;31mNameError\u001b[0m: name 'dc_results' is not defined"
     ]
    }
   ],
   "source": [
    "dc_results"
   ]
  },
  {
   "cell_type": "code",
   "execution_count": null,
   "metadata": {},
   "outputs": [],
   "source": []
  },
  {
   "cell_type": "code",
   "execution_count": null,
   "metadata": {},
   "outputs": [],
   "source": []
  },
  {
   "cell_type": "code",
   "execution_count": null,
   "metadata": {},
   "outputs": [],
   "source": []
  },
  {
   "cell_type": "code",
   "execution_count": null,
   "metadata": {},
   "outputs": [],
   "source": []
  },
  {
   "cell_type": "code",
   "execution_count": 5,
   "metadata": {},
   "outputs": [
    {
     "name": "stdout",
     "output_type": "stream",
     "text": [
      "Loading raw samples now.\n",
      "shard_size: 8192\n",
      "About to start loading CSV from /var/folders/7c/88zzqp7j4c36cg81sxc4x_yc0000gn/T/tox21.csv.gz\n",
      "Loading shard 1 of size 8192.\n",
      "Featurizing sample 0\n",
      "Featurizing sample 1000\n",
      "Featurizing sample 2000\n",
      "Featurizing sample 3000\n",
      "Featurizing sample 4000\n",
      "Featurizing sample 5000\n",
      "Featurizing sample 6000\n",
      "Featurizing sample 7000\n",
      "TIMING: featurizing shard 0 took 7.318 s\n",
      "TIMING: dataset construction took 7.502 s\n",
      "Loading dataset from disk.\n",
      "TIMING: dataset construction took 0.262 s\n",
      "Loading dataset from disk.\n",
      "TIMING: dataset construction took 0.140 s\n",
      "Loading dataset from disk.\n",
      "TIMING: dataset construction took 0.143 s\n",
      "Loading dataset from disk.\n",
      "TIMING: dataset construction took 0.208 s\n",
      "Loading dataset from disk.\n",
      "TIMING: dataset construction took 0.033 s\n",
      "Loading dataset from disk.\n",
      "TIMING: dataset construction took 0.030 s\n",
      "Loading dataset from disk.\n"
     ]
    }
   ],
   "source": [
    "# Example dataset load\n",
    "tox21 = deepchem.molnet.load_tox21()"
   ]
  },
  {
   "cell_type": "code",
   "execution_count": 6,
   "metadata": {},
   "outputs": [
    {
     "data": {
      "text/plain": [
       "(['NR-AR',\n",
       "  'NR-AR-LBD',\n",
       "  'NR-AhR',\n",
       "  'NR-Aromatase',\n",
       "  'NR-ER',\n",
       "  'NR-ER-LBD',\n",
       "  'NR-PPAR-gamma',\n",
       "  'SR-ARE',\n",
       "  'SR-ATAD5',\n",
       "  'SR-HSE',\n",
       "  'SR-MMP',\n",
       "  'SR-p53'],\n",
       " (<deepchem.data.datasets.DiskDataset at 0x1a448aefd0>,\n",
       "  <deepchem.data.datasets.DiskDataset at 0x1a448aeb00>,\n",
       "  <deepchem.data.datasets.DiskDataset at 0x1a42b91b00>),\n",
       " [<deepchem.trans.transformers.BalancingTransformer at 0x1a42b91f28>])"
      ]
     },
     "execution_count": 6,
     "metadata": {},
     "output_type": "execute_result"
    }
   ],
   "source": [
    "# Example dataset:\n",
    "tox21"
   ]
  },
  {
   "cell_type": "code",
   "execution_count": 67,
   "metadata": {},
   "outputs": [
    {
     "name": "stdout",
     "output_type": "stream",
     "text": [
      "Loading dataset from disk.\n",
      "Loading dataset from disk.\n",
      "Loading dataset from disk.\n"
     ]
    }
   ],
   "source": [
    "x, w, z = dc.molnet.load_tox21(featurizer='GraphConv')"
   ]
  },
  {
   "cell_type": "code",
   "execution_count": null,
   "metadata": {},
   "outputs": [],
   "source": [
    "# Overall object is a tuple of length 3: tasks, datasets, transformers\n",
    "\n",
    "    # tasks is a list? ['Task']\n",
    "    # datasets is a tuple of deepchem.data.datasets.DiskDataset\n",
    "    # transformer is a list with: <deepchem.trans.transformers.BalancingTransformer\n",
    "\n"
   ]
  },
  {
   "cell_type": "code",
   "execution_count": 65,
   "metadata": {},
   "outputs": [
    {
     "data": {
      "text/plain": [
       "tuple"
      ]
     },
     "execution_count": 65,
     "metadata": {},
     "output_type": "execute_result"
    }
   ],
   "source": [
    "type(t21_datasets)"
   ]
  },
  {
   "cell_type": "code",
   "execution_count": null,
   "metadata": {},
   "outputs": [],
   "source": []
  }
 ],
 "metadata": {
  "kernelspec": {
   "display_name": "Python 3",
   "language": "python",
   "name": "python3"
  },
  "language_info": {
   "codemirror_mode": {
    "name": "ipython",
    "version": 3
   },
   "file_extension": ".py",
   "mimetype": "text/x-python",
   "name": "python",
   "nbconvert_exporter": "python",
   "pygments_lexer": "ipython3",
   "version": "3.6.8"
  }
 },
 "nbformat": 4,
 "nbformat_minor": 2
}
