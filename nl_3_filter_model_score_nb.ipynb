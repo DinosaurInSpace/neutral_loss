{
 "cells": [
  {
   "cell_type": "code",
   "execution_count": 2,
   "metadata": {},
   "outputs": [],
   "source": [
    "import pandas as pd\n",
    "import numpy as np\n",
    "import itertools\n",
    "import functools\n",
    "from nl_03_filter_model_score import filter_split_model_score\n",
    "import importlib.util"
   ]
  },
  {
   "cell_type": "markdown",
   "metadata": {},
   "source": [
    "This notebook, nl_03_filter_model_score_nb.ipynb, serves as an interactive interface for \n",
    "filtering, splitting, modeling, and scoring neutral loss METASPACE data.\n",
    "\n",
    "Cells with interactive parameters are set below:"
   ]
  },
  {
   "cell_type": "code",
   "execution_count": null,
   "metadata": {},
   "outputs": [],
   "source": [
    "# df4 = pd.evalute('df1 + df2 + df3') # Much faster for big DF!\n",
    "# Basic math and logic mostly..."
   ]
  },
  {
   "cell_type": "code",
   "execution_count": null,
   "metadata": {},
   "outputs": [],
   "source": [
    "# Load ML DF, then load bits or mord, use expressions below to find\n",
    "# idx hitting filtering criteria.  Filter ML DF then filter bits or \n",
    "# mord based on same indexes returned\n",
    "\n",
    "idx = df.query('logic').index.tolist()\n",
    "idx = df[df['col_A' > 100]].index.tolist()"
   ]
  },
  {
   "cell_type": "code",
   "execution_count": null,
   "metadata": {},
   "outputs": [],
   "source": [
    "#Try each, check for memory and poor column type usage\n",
    "mord_df = pd.read_pickle('temp_mord.pickle')\n",
    "bits_df = pd.read_pickle('temp_bits.pickle')\n",
    "join_df = pd.read_pickle('/Users/dis/PycharmProjects/neutral_loss/all_public_output_02.pickle')"
   ]
  },
  {
   "cell_type": "code",
   "execution_count": 18,
   "metadata": {},
   "outputs": [
    {
     "data": {
      "text/html": [
       "<div>\n",
       "<style scoped>\n",
       "    .dataframe tbody tr th:only-of-type {\n",
       "        vertical-align: middle;\n",
       "    }\n",
       "\n",
       "    .dataframe tbody tr th {\n",
       "        vertical-align: top;\n",
       "    }\n",
       "\n",
       "    .dataframe thead th {\n",
       "        text-align: right;\n",
       "    }\n",
       "</style>\n",
       "<table border=\"1\" class=\"dataframe\">\n",
       "  <thead>\n",
       "    <tr style=\"text-align: right;\">\n",
       "      <th></th>\n",
       "      <th>target</th>\n",
       "      <th>polarity</th>\n",
       "      <th>fdr</th>\n",
       "      <th>coloc</th>\n",
       "      <th>mclass</th>\n",
       "      <th>model</th>\n",
       "      <th>X</th>\n",
       "      <th>y</th>\n",
       "      <th>w</th>\n",
       "    </tr>\n",
       "  </thead>\n",
       "  <tbody>\n",
       "    <tr>\n",
       "      <td>0</td>\n",
       "      <td>H2O</td>\n",
       "      <td>positive</td>\n",
       "      <td>0.05</td>\n",
       "      <td>0.75</td>\n",
       "      <td>ml</td>\n",
       "      <td>XGBoost</td>\n",
       "      <td>bits</td>\n",
       "      <td>n_loss_wparent_H2O</td>\n",
       "      <td>weight</td>\n",
       "    </tr>\n",
       "  </tbody>\n",
       "</table>\n",
       "</div>"
      ],
      "text/plain": [
       "  target  polarity   fdr  coloc mclass    model     X                   y  \\\n",
       "0    H2O  positive  0.05   0.75     ml  XGBoost  bits  n_loss_wparent_H2O   \n",
       "\n",
       "        w  \n",
       "0  weight  "
      ]
     },
     "execution_count": 18,
     "metadata": {},
     "output_type": "execute_result"
    }
   ],
   "source": [
    "# Filtering:\n",
    "target = ['H2O'] # ['H2O']\n",
    "polarity = [1] # {1:positive, -1:negative] \n",
    "fdrs = [0.05] # [0.2, 0.1, 0.05]\n",
    "colocalizations = [0.75] # [0, 0.5, 0.75]\n",
    "\n",
    "# Outputs (y), and weights (w):\n",
    "global_ys = ['n_loss_only_H2O', 'n_loss_wparent_H2O']\n",
    "global_y = [global_ys[1]]\n",
    "global_w = ['weight']\n",
    "\n",
    "# Class of model:\n",
    "direct_model_on = False\n",
    "ml_model_on = True\n",
    "deepchem_model_on = False\n",
    "\n",
    "# Split.  If true, any formula only appears in train/test/validate.\n",
    "single_fold_group = True\n",
    "\n",
    "direct_df = pd.DataFrame()\n",
    "ml_df = pd.DataFrame()\n",
    "dc_df = pd.DataFrame()\n",
    "\n",
    "# Specific inputs (X) for each model:\n",
    "if direct_model_on is True:\n",
    "    model = ['']\n",
    "    Xs = ['trues', 'falses', 'rando', 'H2O_Present', 'n_loss_wparent_H2O']\n",
    "    X =  [Xs[3]]\n",
    "    y = global_y\n",
    "    w = global_w\n",
    "    direct_models = list(itertools.product(*[target, polarity, fdrs, colocalizations,\n",
    "                                             ['direct'], model, X, y, w]))\n",
    "    \n",
    "    direct_df = pd.DataFrame(direct_models, columns=['target', 'polarity', 'fdr', 'coloc',\n",
    "                                       'mclass', 'model', 'X', 'y', 'w'])\n",
    "    \n",
    "if ml_model_on is True:\n",
    "    models = ['random_forest', 'XGBoost', 'ThunderSVM']\n",
    "    model = [models[1]]\n",
    "    Xs = ['bits', 'mord_norm'] \n",
    "    X = [Xs[0]]\n",
    "    y = global_y\n",
    "    w = global_w\n",
    "    ml_params = []\n",
    "    ml_models = list(itertools.product(*[target, polarity, fdrs, colocalizations,\n",
    "                                         ['ml'], model, X, y, w]))\n",
    "    ml_df = pd.DataFrame(ml_models, columns=['target', 'polarity', 'fdr', 'coloc',\n",
    "                                       'mclass', 'model', 'X', 'y', 'w']) \n",
    "\n",
    "if deepchem_model_on is True:\n",
    "    models = [('GraphConvModel', 'GraphConv'), \n",
    "              ('WeaveModel', 'Weave'), \n",
    "              ('MPNNModel','Weave') ] \n",
    "    model = [models[0]]    \n",
    "    Xs = ['Molecule', 'Smiles']\n",
    "    X = [Xs[0]]          \n",
    "    y = global_y\n",
    "    w = global_w\n",
    "    dc_params = []\n",
    "    dc_models = list(itertools.product(*[target, polarity, fdrs, colocalizations,\n",
    "                                         ['dc'], model, X, y, w]))\n",
    "    dc_df = pd.DataFrame(dc_models, columns=['target', 'polarity', 'fdr', 'coloc',\n",
    "                                       'mclass', 'model', 'X', 'y', 'w'])\n",
    "    \n",
    "filter_param_df = pd.concat([direct_df, ml_df, dc_df]).reset_index(drop=True)\n",
    "#model_param = [ml_params, dc_params]\n",
    "filter_param_df"
   ]
  },
  {
   "cell_type": "code",
   "execution_count": 19,
   "metadata": {
    "scrolled": true
   },
   "outputs": [
    {
     "name": "stdout",
     "output_type": "stream",
     "text": [
      "start 0\n"
     ]
    },
    {
     "ename": "KeyError",
     "evalue": "\"['bits'] not in index\"",
     "output_type": "error",
     "traceback": [
      "\u001b[0;31m---------------------------------------------------------------------------\u001b[0m",
      "\u001b[0;31mKeyError\u001b[0m                                  Traceback (most recent call last)",
      "\u001b[0;32m<ipython-input-19-20a7f982ffc4>\u001b[0m in \u001b[0;36m<module>\u001b[0;34m\u001b[0m\n\u001b[1;32m      1\u001b[0m result = filter_split_model_score(filter_param_df, join_df, single_fold_group, \n\u001b[0;32m----> 2\u001b[0;31m                                   target) #model_params\n\u001b[0m",
      "\u001b[0;32m~/PycharmProjects/neutral_loss/nl_03_filter_model_score.py\u001b[0m in \u001b[0;36mfilter_split_model_score\u001b[0;34m(filter_param_df, join_df, single_fold_group, target)\u001b[0m\n\u001b[1;32m    180\u001b[0m                              ]\n\u001b[1;32m    181\u001b[0m \u001b[0;34m\u001b[0m\u001b[0m\n\u001b[0;32m--> 182\u001b[0;31m         \u001b[0mxyw_df\u001b[0m \u001b[0;34m=\u001b[0m \u001b[0mfiltered_df\u001b[0m\u001b[0;34m[\u001b[0m\u001b[0;34m[\u001b[0m\u001b[0;34m'formula'\u001b[0m\u001b[0;34m,\u001b[0m \u001b[0;34m'hmdb_ids'\u001b[0m\u001b[0;34m,\u001b[0m \u001b[0;34m'ds_id'\u001b[0m\u001b[0;34m,\u001b[0m \u001b[0mrow\u001b[0m\u001b[0;34m.\u001b[0m\u001b[0mX\u001b[0m\u001b[0;34m,\u001b[0m \u001b[0mrow\u001b[0m\u001b[0;34m.\u001b[0m\u001b[0my\u001b[0m\u001b[0;34m,\u001b[0m \u001b[0mrow\u001b[0m\u001b[0;34m.\u001b[0m\u001b[0mw\u001b[0m\u001b[0;34m]\u001b[0m\u001b[0;34m]\u001b[0m\u001b[0;34m.\u001b[0m\u001b[0mcopy\u001b[0m\u001b[0;34m(\u001b[0m\u001b[0mdeep\u001b[0m\u001b[0;34m=\u001b[0m\u001b[0;32mTrue\u001b[0m\u001b[0;34m)\u001b[0m\u001b[0;34m\u001b[0m\u001b[0;34m\u001b[0m\u001b[0m\n\u001b[0m\u001b[1;32m    183\u001b[0m \u001b[0;34m\u001b[0m\u001b[0m\n\u001b[1;32m    184\u001b[0m         \u001b[0;32mif\u001b[0m \u001b[0mrow\u001b[0m\u001b[0;34m.\u001b[0m\u001b[0mX\u001b[0m \u001b[0;34m!=\u001b[0m \u001b[0mrow\u001b[0m\u001b[0;34m.\u001b[0m\u001b[0my\u001b[0m\u001b[0;34m:\u001b[0m\u001b[0;34m\u001b[0m\u001b[0;34m\u001b[0m\u001b[0m\n",
      "\u001b[0;32m~/anaconda3/envs/lcenv/lib/python3.6/site-packages/pandas/core/frame.py\u001b[0m in \u001b[0;36m__getitem__\u001b[0;34m(self, key)\u001b[0m\n\u001b[1;32m   2984\u001b[0m             \u001b[0;32mif\u001b[0m \u001b[0mis_iterator\u001b[0m\u001b[0;34m(\u001b[0m\u001b[0mkey\u001b[0m\u001b[0;34m)\u001b[0m\u001b[0;34m:\u001b[0m\u001b[0;34m\u001b[0m\u001b[0;34m\u001b[0m\u001b[0m\n\u001b[1;32m   2985\u001b[0m                 \u001b[0mkey\u001b[0m \u001b[0;34m=\u001b[0m \u001b[0mlist\u001b[0m\u001b[0;34m(\u001b[0m\u001b[0mkey\u001b[0m\u001b[0;34m)\u001b[0m\u001b[0;34m\u001b[0m\u001b[0;34m\u001b[0m\u001b[0m\n\u001b[0;32m-> 2986\u001b[0;31m             \u001b[0mindexer\u001b[0m \u001b[0;34m=\u001b[0m \u001b[0mself\u001b[0m\u001b[0;34m.\u001b[0m\u001b[0mloc\u001b[0m\u001b[0;34m.\u001b[0m\u001b[0m_convert_to_indexer\u001b[0m\u001b[0;34m(\u001b[0m\u001b[0mkey\u001b[0m\u001b[0;34m,\u001b[0m \u001b[0maxis\u001b[0m\u001b[0;34m=\u001b[0m\u001b[0;36m1\u001b[0m\u001b[0;34m,\u001b[0m \u001b[0mraise_missing\u001b[0m\u001b[0;34m=\u001b[0m\u001b[0;32mTrue\u001b[0m\u001b[0;34m)\u001b[0m\u001b[0;34m\u001b[0m\u001b[0;34m\u001b[0m\u001b[0m\n\u001b[0m\u001b[1;32m   2987\u001b[0m \u001b[0;34m\u001b[0m\u001b[0m\n\u001b[1;32m   2988\u001b[0m         \u001b[0;31m# take() does not accept boolean indexers\u001b[0m\u001b[0;34m\u001b[0m\u001b[0;34m\u001b[0m\u001b[0;34m\u001b[0m\u001b[0m\n",
      "\u001b[0;32m~/anaconda3/envs/lcenv/lib/python3.6/site-packages/pandas/core/indexing.py\u001b[0m in \u001b[0;36m_convert_to_indexer\u001b[0;34m(self, obj, axis, is_setter, raise_missing)\u001b[0m\n\u001b[1;32m   1283\u001b[0m                 \u001b[0;31m# When setting, missing keys are not allowed, even with .loc:\u001b[0m\u001b[0;34m\u001b[0m\u001b[0;34m\u001b[0m\u001b[0;34m\u001b[0m\u001b[0m\n\u001b[1;32m   1284\u001b[0m                 \u001b[0mkwargs\u001b[0m \u001b[0;34m=\u001b[0m \u001b[0;34m{\u001b[0m\u001b[0;34m\"raise_missing\"\u001b[0m\u001b[0;34m:\u001b[0m \u001b[0;32mTrue\u001b[0m \u001b[0;32mif\u001b[0m \u001b[0mis_setter\u001b[0m \u001b[0;32melse\u001b[0m \u001b[0mraise_missing\u001b[0m\u001b[0;34m}\u001b[0m\u001b[0;34m\u001b[0m\u001b[0;34m\u001b[0m\u001b[0m\n\u001b[0;32m-> 1285\u001b[0;31m                 \u001b[0;32mreturn\u001b[0m \u001b[0mself\u001b[0m\u001b[0;34m.\u001b[0m\u001b[0m_get_listlike_indexer\u001b[0m\u001b[0;34m(\u001b[0m\u001b[0mobj\u001b[0m\u001b[0;34m,\u001b[0m \u001b[0maxis\u001b[0m\u001b[0;34m,\u001b[0m \u001b[0;34m**\u001b[0m\u001b[0mkwargs\u001b[0m\u001b[0;34m)\u001b[0m\u001b[0;34m[\u001b[0m\u001b[0;36m1\u001b[0m\u001b[0;34m]\u001b[0m\u001b[0;34m\u001b[0m\u001b[0;34m\u001b[0m\u001b[0m\n\u001b[0m\u001b[1;32m   1286\u001b[0m         \u001b[0;32melse\u001b[0m\u001b[0;34m:\u001b[0m\u001b[0;34m\u001b[0m\u001b[0;34m\u001b[0m\u001b[0m\n\u001b[1;32m   1287\u001b[0m             \u001b[0;32mtry\u001b[0m\u001b[0;34m:\u001b[0m\u001b[0;34m\u001b[0m\u001b[0;34m\u001b[0m\u001b[0m\n",
      "\u001b[0;32m~/anaconda3/envs/lcenv/lib/python3.6/site-packages/pandas/core/indexing.py\u001b[0m in \u001b[0;36m_get_listlike_indexer\u001b[0;34m(self, key, axis, raise_missing)\u001b[0m\n\u001b[1;32m   1090\u001b[0m \u001b[0;34m\u001b[0m\u001b[0m\n\u001b[1;32m   1091\u001b[0m         self._validate_read_indexer(\n\u001b[0;32m-> 1092\u001b[0;31m             \u001b[0mkeyarr\u001b[0m\u001b[0;34m,\u001b[0m \u001b[0mindexer\u001b[0m\u001b[0;34m,\u001b[0m \u001b[0mo\u001b[0m\u001b[0;34m.\u001b[0m\u001b[0m_get_axis_number\u001b[0m\u001b[0;34m(\u001b[0m\u001b[0maxis\u001b[0m\u001b[0;34m)\u001b[0m\u001b[0;34m,\u001b[0m \u001b[0mraise_missing\u001b[0m\u001b[0;34m=\u001b[0m\u001b[0mraise_missing\u001b[0m\u001b[0;34m\u001b[0m\u001b[0;34m\u001b[0m\u001b[0m\n\u001b[0m\u001b[1;32m   1093\u001b[0m         )\n\u001b[1;32m   1094\u001b[0m         \u001b[0;32mreturn\u001b[0m \u001b[0mkeyarr\u001b[0m\u001b[0;34m,\u001b[0m \u001b[0mindexer\u001b[0m\u001b[0;34m\u001b[0m\u001b[0;34m\u001b[0m\u001b[0m\n",
      "\u001b[0;32m~/anaconda3/envs/lcenv/lib/python3.6/site-packages/pandas/core/indexing.py\u001b[0m in \u001b[0;36m_validate_read_indexer\u001b[0;34m(self, key, indexer, axis, raise_missing)\u001b[0m\n\u001b[1;32m   1183\u001b[0m             \u001b[0;32mif\u001b[0m \u001b[0;32mnot\u001b[0m \u001b[0;34m(\u001b[0m\u001b[0mself\u001b[0m\u001b[0;34m.\u001b[0m\u001b[0mname\u001b[0m \u001b[0;34m==\u001b[0m \u001b[0;34m\"loc\"\u001b[0m \u001b[0;32mand\u001b[0m \u001b[0;32mnot\u001b[0m \u001b[0mraise_missing\u001b[0m\u001b[0;34m)\u001b[0m\u001b[0;34m:\u001b[0m\u001b[0;34m\u001b[0m\u001b[0;34m\u001b[0m\u001b[0m\n\u001b[1;32m   1184\u001b[0m                 \u001b[0mnot_found\u001b[0m \u001b[0;34m=\u001b[0m \u001b[0mlist\u001b[0m\u001b[0;34m(\u001b[0m\u001b[0mset\u001b[0m\u001b[0;34m(\u001b[0m\u001b[0mkey\u001b[0m\u001b[0;34m)\u001b[0m \u001b[0;34m-\u001b[0m \u001b[0mset\u001b[0m\u001b[0;34m(\u001b[0m\u001b[0max\u001b[0m\u001b[0;34m)\u001b[0m\u001b[0;34m)\u001b[0m\u001b[0;34m\u001b[0m\u001b[0;34m\u001b[0m\u001b[0m\n\u001b[0;32m-> 1185\u001b[0;31m                 \u001b[0;32mraise\u001b[0m \u001b[0mKeyError\u001b[0m\u001b[0;34m(\u001b[0m\u001b[0;34m\"{} not in index\"\u001b[0m\u001b[0;34m.\u001b[0m\u001b[0mformat\u001b[0m\u001b[0;34m(\u001b[0m\u001b[0mnot_found\u001b[0m\u001b[0;34m)\u001b[0m\u001b[0;34m)\u001b[0m\u001b[0;34m\u001b[0m\u001b[0;34m\u001b[0m\u001b[0m\n\u001b[0m\u001b[1;32m   1186\u001b[0m \u001b[0;34m\u001b[0m\u001b[0m\n\u001b[1;32m   1187\u001b[0m             \u001b[0;31m# we skip the warning on Categorical/Interval\u001b[0m\u001b[0;34m\u001b[0m\u001b[0;34m\u001b[0m\u001b[0;34m\u001b[0m\u001b[0m\n",
      "\u001b[0;31mKeyError\u001b[0m: \"['bits'] not in index\""
     ]
    }
   ],
   "source": [
    "result = filter_split_model_score(filter_param_df, join_df, single_fold_group, \n",
    "                                  target) #model_params"
   ]
  },
  {
   "cell_type": "code",
   "execution_count": 427,
   "metadata": {},
   "outputs": [],
   "source": [
    "result.round(3)"
   ]
  },
  {
   "cell_type": "code",
   "execution_count": 428,
   "metadata": {},
   "outputs": [
    {
     "data": {
      "text/html": [
       "<div>\n",
       "<style scoped>\n",
       "    .dataframe tbody tr th:only-of-type {\n",
       "        vertical-align: middle;\n",
       "    }\n",
       "\n",
       "    .dataframe tbody tr th {\n",
       "        vertical-align: top;\n",
       "    }\n",
       "\n",
       "    .dataframe thead th {\n",
       "        text-align: right;\n",
       "    }\n",
       "</style>\n",
       "<table border=\"1\" class=\"dataframe\">\n",
       "  <thead>\n",
       "    <tr style=\"text-align: right;\">\n",
       "      <th></th>\n",
       "      <th>target</th>\n",
       "      <th>polarity</th>\n",
       "      <th>fdr</th>\n",
       "      <th>coloc</th>\n",
       "      <th>mclass</th>\n",
       "      <th>model</th>\n",
       "      <th>X</th>\n",
       "      <th>y</th>\n",
       "      <th>w</th>\n",
       "      <th>sens</th>\n",
       "      <th>spec</th>\n",
       "      <th>f1</th>\n",
       "      <th>test_n</th>\n",
       "      <th>test_true</th>\n",
       "      <th>tp</th>\n",
       "      <th>tn</th>\n",
       "      <th>fp</th>\n",
       "      <th>fn</th>\n",
       "      <th>acc_train</th>\n",
       "      <th>acc_test</th>\n",
       "    </tr>\n",
       "  </thead>\n",
       "  <tbody>\n",
       "    <tr>\n",
       "      <td>0</td>\n",
       "      <td>H2O</td>\n",
       "      <td>positive</td>\n",
       "      <td>0.05</td>\n",
       "      <td>0.75</td>\n",
       "      <td>ml</td>\n",
       "      <td>random_forest</td>\n",
       "      <td>bits</td>\n",
       "      <td>n_loss_wparent_H2O</td>\n",
       "      <td>weight</td>\n",
       "      <td>0.485</td>\n",
       "      <td>0.629</td>\n",
       "      <td>0.197</td>\n",
       "      <td>140476</td>\n",
       "      <td>53618</td>\n",
       "      <td>6622</td>\n",
       "      <td>79834</td>\n",
       "      <td>46996</td>\n",
       "      <td>7024</td>\n",
       "      <td>0.768</td>\n",
       "      <td>0.768</td>\n",
       "    </tr>\n",
       "    <tr>\n",
       "      <td>1</td>\n",
       "      <td>H2O</td>\n",
       "      <td>positive</td>\n",
       "      <td>0.05</td>\n",
       "      <td>0.75</td>\n",
       "      <td>ml</td>\n",
       "      <td>random_forest</td>\n",
       "      <td>mord_norm</td>\n",
       "      <td>n_loss_wparent_H2O</td>\n",
       "      <td>weight</td>\n",
       "      <td>0.323</td>\n",
       "      <td>0.896</td>\n",
       "      <td>0.282</td>\n",
       "      <td>140476</td>\n",
       "      <td>17587</td>\n",
       "      <td>4403</td>\n",
       "      <td>113646</td>\n",
       "      <td>13184</td>\n",
       "      <td>9243</td>\n",
       "      <td>0.826</td>\n",
       "      <td>0.826</td>\n",
       "    </tr>\n",
       "    <tr>\n",
       "      <td>2</td>\n",
       "      <td>H2O</td>\n",
       "      <td>positive</td>\n",
       "      <td>0.05</td>\n",
       "      <td>0.75</td>\n",
       "      <td>ml</td>\n",
       "      <td>random_forest</td>\n",
       "      <td>fp_feats</td>\n",
       "      <td>n_loss_wparent_H2O</td>\n",
       "      <td>weight</td>\n",
       "      <td>0.335</td>\n",
       "      <td>0.869</td>\n",
       "      <td>0.262</td>\n",
       "      <td>140476</td>\n",
       "      <td>21230</td>\n",
       "      <td>4570</td>\n",
       "      <td>110170</td>\n",
       "      <td>16660</td>\n",
       "      <td>9076</td>\n",
       "      <td>0.826</td>\n",
       "      <td>0.826</td>\n",
       "    </tr>\n",
       "  </tbody>\n",
       "</table>\n",
       "</div>"
      ],
      "text/plain": [
       "  target  polarity   fdr  coloc mclass          model          X  \\\n",
       "0    H2O  positive  0.05   0.75     ml  random_forest       bits   \n",
       "1    H2O  positive  0.05   0.75     ml  random_forest  mord_norm   \n",
       "2    H2O  positive  0.05   0.75     ml  random_forest   fp_feats   \n",
       "\n",
       "                    y       w   sens   spec     f1  test_n  test_true    tp  \\\n",
       "0  n_loss_wparent_H2O  weight  0.485  0.629  0.197  140476      53618  6622   \n",
       "1  n_loss_wparent_H2O  weight  0.323  0.896  0.282  140476      17587  4403   \n",
       "2  n_loss_wparent_H2O  weight  0.335  0.869  0.262  140476      21230  4570   \n",
       "\n",
       "       tn     fp    fn  acc_train  acc_test  \n",
       "0   79834  46996  7024      0.768     0.768  \n",
       "1  113646  13184  9243      0.826     0.826  \n",
       "2  110170  16660  9076      0.826     0.826  "
      ]
     },
     "execution_count": 428,
     "metadata": {},
     "output_type": "execute_result"
    }
   ],
   "source": [
    "name = 'this_file_name'\n",
    "result.to_pickle(name)"
   ]
  },
  {
   "cell_type": "code",
   "execution_count": null,
   "metadata": {},
   "outputs": [],
   "source": [
    "# Grid search?  Use a row from filter pslit."
   ]
  }
 ],
 "metadata": {
  "kernelspec": {
   "display_name": "Python 3",
   "language": "python",
   "name": "python3"
  },
  "language_info": {
   "codemirror_mode": {
    "name": "ipython",
    "version": 3
   },
   "file_extension": ".py",
   "mimetype": "text/x-python",
   "name": "python",
   "nbconvert_exporter": "python",
   "pygments_lexer": "ipython3",
   "version": "3.6.8"
  }
 },
 "nbformat": 4,
 "nbformat_minor": 2
}
